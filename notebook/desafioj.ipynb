{
 "cells": [
  {
   "cell_type": "markdown",
   "metadata": {},
   "source": [
    "# Teste para Análise de Dados **senhasegura**\n",
    "\n",
    "# 1 Introdução \n",
    "Este projeto tem como foco a análise de dados de vendas de uma loja online para o teste de Estágio em Dados da senhasegura, com objetivo principal de manipular os dados , realizar uma analise exploratoria e fazer um insight detalhado dos resultados obtidos.  \n",
    "\n",
    "### 1.1- Objetivos Específicos \n",
    "- **Limpeza e Preparação dos Dados**: Será feita a verificacao de dados ausentes , como tambem edicao de alguns dados para melhor visualizacao.\n",
    "- **Analise exploratoria dos Dados**: Será feita uma analise aprofundada para entendelos melhor e assim conseguir insights e resultados mais precisos.\n",
    "- **Resultados e Analises Obtidos**: Ao final com todos os dados em maos sera feita uma analise aprofunda dos dados e assim feita algumas sugestoes de melhorias.\n",
    "\n",
    "### 1.2- Ferramentas e Metodologia\n",
    "- **Ferramentas Utilizadas**: Python e Jupyter Notebooks para análise de dados, com bibliotecas como Pandas, Plotly, Matplotlib e Seaborn para manipulação de dados e visualizações.\n",
    "- **Abordagem de Análise**: A análise será conduzida através de uma combinação de estatísticas descritivas, visualizações de dados, e exploração de variáveis específicas que são potencialmente relevantes para o Teste.\n",
    "\n",
    "Com esses objetivos e ferramentas em mente, procederemos com a análise detalhada dos dados fornecidos."
   ]
  },
  {
   "cell_type": "markdown",
   "metadata": {},
   "source": [
    " ### 1.3- Importação das Bibliotecas\n",
    " \n",
    " Importação das bibliotecas necessárias."
   ]
  },
  {
   "cell_type": "code",
   "execution_count": 1,
   "metadata": {},
   "outputs": [],
   "source": [
    "import csv\n",
    "from datetime import datetime\n",
    "import matplotlib.pyplot as plt\n",
    "import pandas as pd\n",
    "import numpy as np\n",
    "import matplotlib.pyplot as plt\n",
    "import seaborn as sns\n",
    "import datetime as dt\n",
    "import plotly.express as px\n",
    "import plotly.graph_objects as go\n",
    "from scipy.stats import gaussian_kde\n",
    "import os\n",
    "from datetime import datetime\n",
    "\n",
    "#Cores a serem ultilizadas nos graficos \n",
    "colorsbar = ['#086365','#80b9b8']\n",
    "color1 = ['#086365']\n",
    "if not os.path.exists('imgs'):\n",
    "    os.makedirs('imgs')\n",
    "vendas=[]"
   ]
  },
  {
   "cell_type": "markdown",
   "metadata": {},
   "source": [
    "### 2 - Limpeza e Preparcao dos Dados\n",
    "\n",
    "Importação dos dados do arquivo csv para um dataframe do pandas."
   ]
  },
  {
   "cell_type": "code",
   "execution_count": 2,
   "metadata": {},
   "outputs": [],
   "source": [
    "data=pd.read_csv('dados_de_vendas.csv')"
   ]
  },
  {
   "cell_type": "markdown",
   "metadata": {},
   "source": [
    "### 2.1- Descrição das Colunas do Conjunto de Dados\n",
    "\n",
    "Este conjunto de dados contém algumas colunas que fornecem informações sobre as vendas. Abaixo está uma descrição breve de cada coluna:\n",
    "\n",
    "- **ID da Venda**: Identificador único da venda\n",
    " - **Data da Venda**: Data da venda (formato: AAAA-MM-DD)\n",
    " - **Produto**: Nome do produto vendido\n",
    " - **Categoria**: Categoria do produto\n",
    " - **Preço Unitário**: Preço de venda de uma unidade do produto\n",
    " - **Quantidade**: Quantidade do produto vendida\n",
    " - **Cidade**: Cidade onde a venda foi realizada\n",
    " - **Estado**: Estado onde a venda foi realizada"
   ]
  },
  {
   "cell_type": "markdown",
   "metadata": {},
   "source": [
    "### 2.2 - Verificacao da Quantidade de Dados e Atributos  "
   ]
  },
  {
   "cell_type": "code",
   "execution_count": 3,
   "metadata": {},
   "outputs": [
    {
     "name": "stdout",
     "output_type": "stream",
     "text": [
      "Número de linhas: 3000\n",
      "Número de colunas: 8\n"
     ]
    }
   ],
   "source": [
    "df = pd.read_csv('dados_de_vendas.csv')\n",
    "\n",
    "# Obter a quantidade de linhas e colunas\n",
    "num_linhas, num_colunas = df.shape\n",
    "\n",
    "print(f\"Número de linhas: {num_linhas}\")\n",
    "print(f\"Número de colunas: {num_colunas}\")"
   ]
  },
  {
   "cell_type": "markdown",
   "metadata": {},
   "source": [
    "Podemos observar que o conjunto de dados possui 3.000 linhas e 8 colunas, o que representa 3.000 vendas e 8 atributos que descrevem cada venda."
   ]
  },
  {
   "cell_type": "markdown",
   "metadata": {},
   "source": [
    "### 2.3 - Verificação de Valores Ausentes"
   ]
  },
  {
   "cell_type": "code",
   "execution_count": 4,
   "metadata": {},
   "outputs": [
    {
     "data": {
      "text/plain": [
       "ID da Venda       0\n",
       "Data da Venda     0\n",
       "Produto           0\n",
       "Categoria         0\n",
       "Preço Unitário    0\n",
       "Quantidade        0\n",
       "Cidade            0\n",
       "Estado            0\n",
       "dtype: int64"
      ]
     },
     "execution_count": 4,
     "metadata": {},
     "output_type": "execute_result"
    }
   ],
   "source": [
    "missing_data = data.isnull().sum()\n",
    "missing_data"
   ]
  },
  {
   "cell_type": "markdown",
   "metadata": {},
   "source": [
    "Ao realizar a limpeza dos dados, a primeira etapa essencial foi verificar se havia valores ausentes em alguma das colunas. Utilizando a função isnull() em conjunto com sum(), identifiquei que não havia valores ausentes no conjunto de dados fornecido. No entanto, gostaria de destacar o seguinte raciocínio para possíveis cenários onde os valores ausentes estivessem presentes:\n",
    "\n",
    "- Exclusão de Linhas com Valores Ausentes: Se a quantidade de dados faltantes fosse pequena e concentrada em poucas linhas, a exclusão dessas linhas seria uma estratégia viável, já que o impacto sobre o volume total de dados seria insignificante.\n",
    "\n",
    "- Substituição de Valores: Em situações onde a exclusão de linhas não seria ideal (por exemplo, se houvesse muitas lacunas), a substituição por valores apropriados seria considerada. Para variáveis numéricas, poderia ser usada a média ou a mediana, dependendo da distribuição dos dados, para não distorcer os resultados. No caso de colunas categóricas, o valor mais frequente poderia ser uma boa substituição.\n",
    "\n",
    "Essas abordagens garantiriam que o dataset continuasse consistente e sem vieses, evitando a exclusão excessiva de dados relevantes ou a introdução de valores incorretos.\n",
    "\n"
   ]
  },
  {
   "cell_type": "markdown",
   "metadata": {},
   "source": [
    "### 2.4 - Conversao da coluna \"Data da Venda\" para o formato apropriado"
   ]
  },
  {
   "cell_type": "code",
   "execution_count": 5,
   "metadata": {},
   "outputs": [],
   "source": [
    "\n",
    "\n",
    "# Inicializar a lista de vendas\n",
    "vendas = []\n",
    "\n",
    "# Abrir e ler o arquivo CSV\n",
    "with open('dados_de_vendas.csv', mode='r', encoding='utf-8') as file:\n",
    "    reader = csv.DictReader(file)\n",
    "    for row in reader:\n",
    "        # Converter 'Data da Venda' de string para objeto de data\n",
    "        row['Data da Venda'] = datetime.strptime(row['Data da Venda'], '%Y-%m-%d')\n",
    "\n",
    "        # Adicionar a venda à lista\n",
    "        vendas.append(row)"
   ]
  },
  {
   "cell_type": "markdown",
   "metadata": {},
   "source": [
    "A coluna \"Data da Venda\" foi inicialmente importada como string, o que impede uma análise temporal precisa. Para corrigir isso, converti essa coluna para o formato datetime, utilizando a função datetime.strptime(). A conversão permitiu realizar análises temporais, como a evolução das vendas ao longo dos meses, facilitando o agrupamento por períodos (ano, mês, etc.) e a identificação de tendências sazonais.\n",
    "\n",
    "Essa conversão foi fundamental para realizar a análise correta de vendas mensais e sazonais, possibilitando o cálculo preciso de métricas como \"valor total por mês\" e \"picos de vendas\", insights cruciais para qualquer análise temporal."
   ]
  },
  {
   "cell_type": "markdown",
   "metadata": {},
   "source": [
    "## 3 - Análise Exploratória dos Dados"
   ]
  },
  {
   "cell_type": "markdown",
   "metadata": {},
   "source": [
    "### 3.1 - Calculo do valor total de cada venda "
   ]
  },
  {
   "cell_type": "code",
   "execution_count": 6,
   "metadata": {},
   "outputs": [],
   "source": [
    "for venda in vendas:\n",
    "    # Converter 'Preço Unitário' e 'Quantidade' para os tipos numéricos corretos\n",
    "    venda['Preço Unitário'] = float(venda['Preço Unitário'])\n",
    "    venda['Quantidade'] = int(venda['Quantidade'])\n",
    "    \n",
    "    # Agora realizar a multiplicação corretamente\n",
    "    venda['Valor Total'] = venda['Preço Unitário'] * venda['Quantidade']\n",
    "  "
   ]
  },
  {
   "cell_type": "markdown",
   "metadata": {},
   "source": [
    "Para calcular o valor total de cada venda, multipliquei o \"Preço Unitário\" pela \"Quantidade\" de produtos vendidos. Isso nos dá uma métrica essencial para avaliar o impacto financeiro de cada transação. Esse cálculo é particularmente importante para entender melhor a receita total gerada por produto, categoria e cidade, fornecendo uma visão mais detalhada das áreas de maior rentabilidade para a loja"
   ]
  },
  {
   "cell_type": "markdown",
   "metadata": {},
   "source": [
    "### 3.2 - Produto mais vendido \n",
    "Foquei em identificar o produto mais vendido e a categoria com maior receita porque essas métricas são cruciais para entender quais itens têm maior demanda e quais geram mais receita para o negócio. Saber que o produto \"Moletom\" foi o mais vendido e que a categoria \"Roupas\" domina a receita ajuda a definir estratégias de estoque, marketing e vendas.\n",
    "\n",
    "- Produto mais vendido: Saber qual produto é o mais popular permite à empresa planejar seu estoque de forma mais eficiente, garantindo que não haja falta de um item de alta demanda.\n",
    "\n",
    "\n",
    "\n"
   ]
  },
  {
   "cell_type": "code",
   "execution_count": 7,
   "metadata": {},
   "outputs": [
    {
     "name": "stdout",
     "output_type": "stream",
     "text": [
      "Produto mais vendido: Moletom\n"
     ]
    }
   ],
   "source": [
    "produtos_vendidos = {}\n",
    "for venda in vendas:\n",
    "    produto = venda['Produto']\n",
    "    produtos_vendidos[produto] = produtos_vendidos.get(produto, 0) + venda['Quantidade']\n",
    "\n",
    "produto_mais_vendido = max(produtos_vendidos, key=produtos_vendidos.get)\n",
    "print(f\"Produto mais vendido: {produto_mais_vendido}\")"
   ]
  },
  {
   "cell_type": "markdown",
   "metadata": {},
   "source": [
    "- Categoria com maior receita: Identificar a categoria com maior receita (Roupas) mostra onde a loja deve continuar investindo, e sugere que outras categorias, como \"Calçados\", podem ser áreas de oportunidade para crescimento ou diversificação."
   ]
  },
  {
   "cell_type": "code",
   "execution_count": 13,
   "metadata": {},
   "outputs": [
    {
     "name": "stdout",
     "output_type": "stream",
     "text": [
      "Categoria com maior receita: Roupas\n"
     ]
    }
   ],
   "source": [
    "# Categoria de produto com maior receita total\n",
    "receita_por_categoria = {}\n",
    "for venda in vendas:\n",
    "    categoria = venda['Categoria']\n",
    "    receita_por_categoria[categoria] = receita_por_categoria.get(categoria, 0) + venda['Valor Total']\n",
    "\n",
    "categoria_maior_receita = max(receita_por_categoria, key=receita_por_categoria.get)\n",
    "print(f\"Categoria com maior receita: {categoria_maior_receita}\")"
   ]
  },
  {
   "cell_type": "markdown",
   "metadata": {},
   "source": [
    "Aqui notamos que a categoria com maior receita foi Roupas "
   ]
  },
  {
   "cell_type": "markdown",
   "metadata": {},
   "source": [
    "### 3.4 - Media de gasto por venda em cada cidade"
   ]
  },
  {
   "cell_type": "code",
   "execution_count": 9,
   "metadata": {},
   "outputs": [
    {
     "name": "stdout",
     "output_type": "stream",
     "text": [
      "Cidade         Média de Gasto \n",
      "------------------------------\n",
      "Rio de Janeiro 356.88         \n",
      "Porto Alegre   325.17         \n",
      "Goiânia        334.95         \n",
      "Curitiba       326.23         \n",
      "Salvador       312.99         \n",
      "Manaus         314.80         \n",
      "Belo Horizonte 323.90         \n",
      "Fortaleza      338.71         \n",
      "Recife         320.61         \n",
      "São Paulo      324.46         \n"
     ]
    }
   ],
   "source": [
    "total_por_cidade = {}\n",
    "vendas_por_cidade = {}\n",
    "\n",
    "for venda in vendas:\n",
    "    cidade = venda['Cidade']\n",
    "    total_por_cidade[cidade] = total_por_cidade.get(cidade, 0) + venda['Valor Total']\n",
    "    vendas_por_cidade[cidade] = vendas_por_cidade.get(cidade, 0) + 1\n",
    "\n",
    "media_gasto_cidade = {cidade: total_por_cidade[cidade] / vendas_por_cidade[cidade] for cidade in total_por_cidade}\n",
    "print(f\"{'Cidade':<15}{'Média de Gasto':<15}\")\n",
    "print(\"-\" * 30)\n",
    "for cidade, media in media_gasto_cidade.items():\n",
    "    print(f\"{cidade:<15}{media:<15.2f}\")"
   ]
  },
  {
   "cell_type": "code",
   "execution_count": 10,
   "metadata": {},
   "outputs": [
    {
     "data": {
      "text/plain": [
       "Cidade\n",
       "Curitiba          328\n",
       "Manaus            324\n",
       "Porto Alegre      311\n",
       "Goiânia           305\n",
       "São Paulo         300\n",
       "Salvador          297\n",
       "Fortaleza         296\n",
       "Rio de Janeiro    285\n",
       "Belo Horizonte    277\n",
       "Recife            277\n",
       "Name: count, dtype: int64"
      ]
     },
     "execution_count": 10,
     "metadata": {},
     "output_type": "execute_result"
    }
   ],
   "source": [
    "status_count = data['Cidade'].value_counts()\n",
    "status_count"
   ]
  },
  {
   "cell_type": "markdown",
   "metadata": {},
   "source": [
    "Calcular a média de gasto por cidade nos deu uma visão geográfica do desempenho das vendas. A decisão de focar nessa métrica foi baseada na possibilidade de personalizar campanhas de marketing ou promoções para diferentes regiões. Ao observar que o Rio de Janeiro tem o maior ticket médio, é possível direcionar produtos premium ou promoções exclusivas para essa cidade, enquanto para Curitiba (com maior volume de compras), estratégias de fidelização podem ser mais eficazes."
   ]
  },
  {
   "cell_type": "markdown",
   "metadata": {},
   "source": [
    "### 3.5 - Gráfico de Barra"
   ]
  },
  {
   "cell_type": "code",
   "execution_count": 11,
   "metadata": {},
   "outputs": [
    {
     "data": {
      "image/png": "[encoded data removed]",
      "text/plain": [
       "<Figure size 1000x600 with 1 Axes>"
      ]
     },
     "metadata": {},
     "output_type": "display_data"
    }
   ],
   "source": [
    "# Vamos garantir que vendas_por_mes seja um dicionário\n",
    "vendas_por_mes = {}\n",
    "\n",
    "# Agrupar vendas por mês e ano\n",
    "for venda in vendas:\n",
    "    ano_mes = (venda['Data da Venda'].year, venda['Data da Venda'].month)\n",
    "    vendas_por_mes[ano_mes] = vendas_por_mes.get(ano_mes, 0) + venda['Valor Total']\n",
    "\n",
    "# Ordenar as vendas por ano e mês\n",
    "vendas_por_mes_ordenado = dict(sorted(vendas_por_mes.items(), key=lambda x: (x[0][0], x[0][1])))\n",
    "\n",
    "# Preparar os rótulos e valores para o gráfico\n",
    "meses_ordenados = [f\"{ano}-{mes:02d}\" for ano, mes in vendas_por_mes_ordenado.keys()]\n",
    "valores_ordenados = vendas_por_mes_ordenado.values()\n",
    "\n",
    "# Criar gráfico de barras com meses ordenados\n",
    "plt.figure(figsize=(10, 6))\n",
    "plt.bar(meses_ordenados, valores_ordenados, color=color1)\n",
    "plt.xlabel('Mês')\n",
    "plt.ylabel('Vendas Totais')\n",
    "plt.title('Evolução das vendas ao longo dos meses')\n",
    "plt.xticks(rotation=45, ha='right')\n",
    "plt.tight_layout()\n",
    "plt.show()"
   ]
  },
  {
   "cell_type": "markdown",
   "metadata": {},
   "source": [
    "Na análise temporal, observei picos em outubro e abril, bem como uma queda acentuada em agosto. Esses padrões sugerem a presença de fatores sazonais ou campanhas promocionais que afetaram o comportamento do consumidor. Minha escolha de focar nesses meses foi estratégica:\n",
    "\n",
    "Picos em outubro e abril: Podem estar associados a eventos sazonais (como Black Friday ou promoções de meia estação). Recomendo que a empresa analise as campanhas realizadas nesses períodos para identificar o que funcionou bem e replicar estratégias semelhantes no futuro.\n",
    "\n",
    "Queda em agosto: A queda em agosto exige uma investigação mais profunda. Isso pode indicar uma sazonalidade negativa ou uma falha em investir em campanhas promocionais. Uma análise mais detalhada de dados históricos e benchmarking com outras empresas poderia esclarecer as causas dessa queda."
   ]
  },
  {
   "cell_type": "markdown",
   "metadata": {},
   "source": [
    "### 3.6 Gráfico de Pizza "
   ]
  },
  {
   "cell_type": "code",
   "execution_count": 12,
   "metadata": {},
   "outputs": [
    {
     "data": {
      "image/png": "[encoded data removed]",
      "text/plain": [
       "<Figure size 800x800 with 1 Axes>"
      ]
     },
     "metadata": {},
     "output_type": "display_data"
    }
   ],
   "source": [
    "# Contagem dos produtos por categoria\n",
    "counts = data['Categoria'].value_counts()\n",
    "\n",
    "# Criar o gráfico de pizza\n",
    "plt.figure(figsize=(8, 8))\n",
    "plt.pie(counts, labels=counts.index, autopct='%1.1f%%', startangle=90, colors=colorsbar)\n",
    "plt.legend(counts.index, title=\"Categorias\", loc=\"center left\", bbox_to_anchor=(1, 0, 0.5, 1))\n",
    "plt.title('Distribuição de Vendas por Categoria de Produtos')\n",
    "plt.show()"
   ]
  },
  {
   "cell_type": "markdown",
   "metadata": {},
   "source": [
    "Grafico de pizza onde podemos ver que teve uma maior venda na categoria de roupas do que calçados "
   ]
  },
  {
   "cell_type": "markdown",
   "metadata": {},
   "source": [
    "## 4 - Conclusões"
   ]
  },
  {
   "cell_type": "markdown",
   "metadata": {},
   "source": [
    "### 4.1 - Insights"
   ]
  },
  {
   "cell_type": "markdown",
   "metadata": {},
   "source": [
    "### 4.1.1 - Comportamento das Vendas ao Longo do Tempo: \n",
    "\n",
    " Analisando os dados obtidos no processo podemos notar alguns comportamentos em realação as vendas: \n",
    " \n",
    "- As vendas mantiveram um comportamento estável entre setembro de 2023 e junho de 2024, com picos notáveis em outubro de 2023 e abril de 2024. Esses picos podem estar relacionados a campanhas promocionais ou sazonalidades, como eventos de Black Friday ou promoções de primavera.\n",
    "\n",
    "- É importante investigar mais a fundo esses picos para entender quais fatores exatos os influenciaram, como campanhas de marketing, eventos específicos ou lançamento de novos produtos.\n",
    "\n",
    "- A queda acentuada nas vendas em agosto, observada em dois anos consecutivos, pode indicar uma sazonalidade natural ou, possivelmente, um baixo investimento em promoções durante esse período. Uma análise mais detalhada, incluindo comparações com outros setores de varejo online, pode ajudar a entender melhor esse padrão.\n",
    "\n",
    "- A quantidade media de vendas entre as cidades e de 3 produtos. \n",
    "\n",
    "### 4.1.2 - Produto e categoria com Melhor Desempenho : \n",
    "\n",
    " Durante o periodo de vendas foram notados alguns pontos : \n",
    "\n",
    "- O produto Moletom foi o mais vendido, sugerindo uma forte demanda por essa categoria de vestuário casual. Esse resultado poderia ser cruzado com dados externos, como tendências de moda ou influências climáticas em diferentes regiões do país.\n",
    "\n",
    "- A categoria Roupas representa mais de 90% da receita total, destacando que a loja está fortemente posicionada nesse nicho. No entanto, uma análise mais detalhada de subcategorias dentro de \"Roupas\" ajudaria a identificar possíveis áreas de crescimento.\n",
    "\n",
    "- A categoria Calçados, que representa menos de 10% do total de vendas, merece atenção. Uma análise mais detalhada poderia explorar a oferta atual de produtos e verificar se há oportunidade para reposicionamento ou melhorias no mix de produtos.\n",
    "\n",
    "### 4.1.3 - Analise Geografica das Vendas: \n",
    "\n",
    " Analisando as cidades e estados , temos os seguintes insights : \n",
    "\n",
    "- O Rio de Janeiro apresentou o maior ticket médio (R$ 356,88), sugerindo que essa cidade tem um público disposto a gastar mais por transação. Seria interessante cruzar esse dado com informações socioeconômicas e demográficas para criar campanhas mais direcionadas a esse perfil de cliente.\n",
    "\n",
    "- Curitiba, apesar de ter um ticket médio mais baixo, foi a cidade com o maior número de compras. Isso sugere que Curitiba é um mercado com volume alto, mas de menor valor unitário. Estratégias de fidelização e promoções de compra recorrente podem ser eficazes para aumentar o ticket médio nessa região."
   ]
  },
  {
   "cell_type": "markdown",
   "metadata": {},
   "source": [
    "## 4.2 - Recomendações \n",
    "\n",
    "- **Campanhas Sazonais e Promoções Direcionadas:** Os picos de vendas em outubro e abril podem ser explorados com campanhas promocionais sazonais, aproveitando a possível relação com datas comemorativas ou eventos comerciais. Uma análise mais detalhada de vendas mensais de anos anteriores ajudaria a confirmar essa hipótese. Para combater a queda nas vendas em agosto, recomendo testar novas estratégias promocionais, como liquidações de estoque ou introdução de novos produtos. Campanhas de e-mail marketing com foco em clientes recorrentes podem ajudar a mitigar essa queda.\n",
    "\n",
    "- **Diversificação do Portfólio de Produtos:** A loja deve continuar a investir na categoria de Roupas, que representa a maior parte das vendas. No entanto, é importante diversificar o portfólio e explorar a categoria de Calçados, possivelmente através de parcerias com novas marcas ou promoções agressivas para aumentar a participação desse segmento. Recomendo também uma análise mais detalhada da concorrência nesse nicho para identificar lacunas de mercado.\n",
    "\n",
    "- **Foco em Cidades com Alto Potencial de Gastos:** O Rio de Janeiro, com o maior ticket médio, é um mercado promissor para lançamentos de produtos premium e campanhas específicas para consumidores de alto poder aquisitivo. A loja pode investir em campanhas de marketing digital direcionadas a essa região, focando em produtos de maior valor agregado. Curitiba, com maior volume de vendas, deve ser foco de campanhas que incentivem compras recorrentes e de valor mais elevado. Promoções como \"leve 4, pague 3\" ou programas de fidelidade podem ser uma boa estratégia para aumentar o ticket médio nessa cidade.\n",
    "\n",
    "- **Aprofundar a Investigação em Meses de Queda:** A queda nas vendas em agosto deve ser investigada mais profundamente, considerando tanto fatores internos (como falta de promoções ou campanhas de marketing) quanto externos (sazonalidade, comportamento do consumidor). Uma análise comparativa com outras empresas do setor ou com dados de mercado mais amplos ajudaria a identificar a causa e planejar ações para mitigar esse impacto."
   ]
  }
 ],
 "metadata": {
  "kernelspec": {
   "display_name": "Python 3",
   "language": "python",
   "name": "python3"
  },
  "language_info": {
   "codemirror_mode": {
    "name": "ipython",
    "version": 3
   },
   "file_extension": ".py",
   "mimetype": "text/x-python",
   "name": "python",
   "nbconvert_exporter": "python",
   "pygments_lexer": "ipython3",
   "version": "3.11.4"
  }
 },
 "nbformat": 4,
 "nbformat_minor": 2
}
